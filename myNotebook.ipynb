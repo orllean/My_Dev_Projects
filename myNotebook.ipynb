{
 "cells": [
  {
   "cell_type": "code",
   "execution_count": 1,
   "metadata": {},
   "outputs": [
    {
     "name": "stdout",
     "output_type": "stream",
     "text": [
      "foi...\n"
     ]
    }
   ],
   "source": [
    "try:\n",
    "    file = open('Curso em Vídeo/PYTHON_W3/ex115/lib/dados/cadastro.txt', 'rt')\n",
    "    file.close()\n",
    "except:\n",
    "    print('deu ruim')\n",
    "else:\n",
    "    print('foi...')\n"
   ]
  },
  {
   "cell_type": "code",
   "execution_count": null,
   "metadata": {},
   "outputs": [],
   "source": [
    "a = ['leo', '50\\n']\n",
    "print(a)\n",
    "print(a[1][:-1])\n",
    "print(a[0])"
   ]
  },
  {
   "cell_type": "code",
   "execution_count": null,
   "metadata": {},
   "outputs": [],
   "source": [
    "def éInt(str):\n",
    "    try:\n",
    "        str = int(str)\n",
    "    except (ValueError, TypeError):\n",
    "        print('Tipo ou valor errado :(')\n",
    "    except (ZeroDivisionError):\n",
    "        print('O valor deve ser maior que zero :(')\n",
    "    except (KeyboardInterrupt):\n",
    "        print('Escapou pela tangente :(')\n",
    "    else:\n",
    "        print(str)\n",
    "        return str\n",
    "    finally:\n",
    "        print('volte sempre')\n",
    "\n",
    "#opt = éInt(opt)\n",
    "if éInt('3'):\n",
    "    print('ok')"
   ]
  },
  {
   "cell_type": "code",
   "execution_count": null,
   "metadata": {},
   "outputs": [],
   "source": [
    "menu = ['Ver pessoas cadastradas', 'Cadastrar nova pessoa', 'Sair do sistema']\n",
    "lista = [r for r in range(1, len(menu)+1)]\n",
    "if 1 in [r for r in range(1, len(menu)+1)]:\n",
    "    print(lista)"
   ]
  },
  {
   "cell_type": "code",
   "execution_count": null,
   "metadata": {},
   "outputs": [],
   "source": [
    "def leiaInt(i):\n",
    "    try:\n",
    "        int(i)\n",
    "    except:\n",
    "        print(f'\\033[1;31;40mERRO! Digite um valor válido.\\033[0;0;0m')\n",
    "    else:\n",
    "        return True\n",
    "    \n",
    "\n",
    "def leiaFloat(f):\n",
    "    try:\n",
    "        float(f)\n",
    "    except:\n",
    "        print(f'\\033[1;31;40mERRO! Digite um valor válido.\\033[0;0;0m')\n",
    "    else:\n",
    "        return True\n",
    "\n",
    "\n",
    "\n",
    "def principal():\n",
    "    while True:\n",
    "        int = str(input('Digite um valor INTEIRO: '))\n",
    "        if leiaInt(int):\n",
    "            break\n",
    "    while True:\n",
    "        real = str(input('Digite um valor REAL: '))\n",
    "        if leiaFloat(real):\n",
    "            break\n",
    "    print(f'O valor inteiro foi {int} e o valor real foi {real} ')\n",
    "\n",
    "principal()"
   ]
  },
  {
   "cell_type": "code",
   "execution_count": null,
   "metadata": {},
   "outputs": [],
   "source": [
    "try:\n",
    "    a = 5\n",
    "    b = 'dois'\n",
    "    int(b)\n",
    "    r = a / b\n",
    "except (ValueError, TypeError):\n",
    "    print('Tipo ou valor errado :(')\n",
    "except (ZeroDivisionError):\n",
    "    print('O valor deve ser maior que zero :(')\n",
    "except (KeyboardInterrupt):\n",
    "    print('Escapou pela tangente :(')\n",
    "else:\n",
    "    print(r)\n",
    "finally:\n",
    "    print('volte sempre')"
   ]
  },
  {
   "cell_type": "code",
   "execution_count": null,
   "metadata": {},
   "outputs": [],
   "source": [
    "try:\n",
    "    a = 5\n",
    "    b = 2\n",
    "    r = a / b\n",
    "except Exception as erro:\n",
    "    print(f'{erro.__class__} deu ruim :(')\n",
    "else:\n",
    "    print(r)\n",
    "finally:\n",
    "    print('volte sempre')"
   ]
  },
  {
   "cell_type": "code",
   "execution_count": null,
   "metadata": {},
   "outputs": [],
   "source": [
    "d = '50534'\n",
    "d = d.replace(',', '.')\n",
    "print(d)\n",
    "d = float(d)\n",
    "print(f'\\033[1;31;47md')"
   ]
  },
  {
   "cell_type": "code",
   "execution_count": null,
   "metadata": {},
   "outputs": [],
   "source": [
    "# cores no terminal - utilizando código ANSI\n",
    "# inicia com '\\033[' e fecha com 'm'\n",
    "# aceita 3 argumentos: style(0 = none, 1 = bold, 4 = underline e 7 = inverse) ; text(sequencia de 30 ate 37) ; bg(sqc de 40 ate 47). separados por dois pt e virgula\n",
    "\n",
    "nome = 'orlean costa'.title()\n",
    "limpa = '\\033[0;0;0m' \n",
    "txt_fx = {\n",
    "'none':'\\033[0m',\n",
    "'bold':'\\033[1m',\n",
    "'italic':'\\033[4m',\n",
    "'inverse':'\\033[7m'\n",
    "}\n",
    "txt_cores = {'branco':'\\033[30m',\n",
    "        'vermelho':'\\033[31m',\n",
    "        'verde':'\\033[32m',\n",
    "        'amarelo':'\\033[33m',\n",
    "        'azul':'\\033[34m',\n",
    "        'roxo':'\\033[35m',\n",
    "        'cian':'\\033[36m',\n",
    "        'cinza':'\\033[37m'\n",
    "        }\n",
    "bg_cores = {'branco':'\\033[40m',\n",
    "        'vermelho':'\\033[41m',\n",
    "        'verde':'\\033[42m',\n",
    "        'amarelo':'\\033[43m',\n",
    "        'azul':'\\033[44m',\n",
    "        'roxo':'\\033[45m',\n",
    "        'cian':'\\033[46m',\n",
    "        'cinza':'\\033[47m'\n",
    "        }\n",
    "print(f'Olá! Muito prazer em te conhecer {txt_fx[\"bold\"]}{txt_cores[\"roxo\"]}{bg_cores[\"amarelo\"]} {nome} !!!')\n"
   ]
  },
  {
   "cell_type": "code",
   "execution_count": null,
   "metadata": {},
   "outputs": [],
   "source": [
    "'''\n",
    "1 vermelho = '\\033[31m'\n",
    "2 verde = '\\033[32m'\n",
    "3 azul = '\\033[34m'\n",
    "4 \n",
    "5 ciano = '\\033[36m'\n",
    "6 magenta = '\\033[35m'\n",
    "7 amarelo = '\\033[33m'\n",
    "8 preto = '\\033[30m'\n",
    "9 \n",
    "10 branco = '\\033[37m'\n",
    "11 \n",
    "12 restaura cor original = '\\033[0;0m'\n",
    "13 negrito = '\\033[1m'\n",
    "14 reverso = '\\033[2m'\n",
    "15 \n",
    "16 fundo preto = '\\033[40m'\n",
    "17 fundo vermelho = '\\033[41m'\n",
    "18 fundo verde = '\\033[42m'\n",
    "19 fundo amarelo = '\\033[43m'\n",
    "20 fundo azul = '\\033[44m'\n",
    "21 fundo magenta = '\\033[45m'\n",
    "22 fundo ciano = '\\033[46m'\n",
    "23 fundo branco = '\\033[47m'\n",
    "'''"
   ]
  },
  {
   "cell_type": "code",
   "execution_count": null,
   "metadata": {},
   "outputs": [],
   "source": [
    "cor = (\n",
    "    '\\033[m',           # 0 sem cor\n",
    "    '\\033[30;41m',      # 1 vermelho\n",
    "    '\\033[30;42m',      # 2 verde\n",
    "    '\\033[30;43m',      # 3 amarelo\n",
    "    '\\033[30;44m',      # 4 azul\n",
    "    '\\033[30;45m',      # 5 roxo\n",
    "    '\\033[30;47m',       # 6 branco\n",
    ")\n",
    "print(cor[6], end='')\n",
    "help(print)\n",
    "print(cor[0], end='')"
   ]
  }
 ],
 "metadata": {
  "interpreter": {
   "hash": "4c65b98e956c6ae24f8ae0bc56d1e465ff92310dbdec0a4bd6b48ffdf1441c98"
  },
  "kernelspec": {
   "display_name": "Python 3.6.6 64-bit",
   "language": "python",
   "name": "python3"
  },
  "language_info": {
   "codemirror_mode": {
    "name": "ipython",
    "version": 3
   },
   "file_extension": ".py",
   "mimetype": "text/x-python",
   "name": "python",
   "nbconvert_exporter": "python",
   "pygments_lexer": "ipython3",
   "version": "3.6.6"
  },
  "orig_nbformat": 4
 },
 "nbformat": 4,
 "nbformat_minor": 2
}
