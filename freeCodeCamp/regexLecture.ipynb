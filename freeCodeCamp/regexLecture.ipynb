{
 "cells": [
  {
   "cell_type": "code",
   "execution_count": null,
   "metadata": {},
   "outputs": [],
   "source": [
    "# metacharacters . ^ $ * + ? { } [ ] \\ | ( )\n",
    "#Metacharacters are characters with a special meaning:\n",
    "'''\n",
    "[]\tA set of characters\n",
    "\\\tSignals a special sequence (can also be used to escape special characters)\t\n",
    ".\tAny character (except newline character)\t\n",
    "^\tStarts with\t\n",
    "$\tEnds with\t\t\n",
    "*\tZero or more occurrences\t\n",
    "+\tOne or more occurrences\t\n",
    "?\tZero or one occurrences\t\n",
    "{}\tExactly the specified number of occurrences\t\n",
    "|\tEither or\t\"falls|stays\"\t\n",
    "()\tCapture and group\n",
    "'''\n",
    "# Special Sequences\n",
    "# A special sequence is a \\ followed by one of the characters in the list below, and has a special meaning:\n",
    "'''\n",
    "\\A\tReturns a match if the specified characters are at the beginning of the string\n",
    "\\b\tReturns a match where the specified characters are at the beginning or at the end of a word\n",
    "    (the \"r\" in the beginning is making sure that the string is being treated as a \"raw string\")\n",
    "\\B\tReturns a match where the specified characters are present, but NOT at the beginning (or at the end) of a word\n",
    "    (the \"r\" in the beginning is making sure that the string is being treated as a \"raw string\")\n",
    "\\d\tReturns a match where the string contains digits (numbers from 0-9)\n",
    "\\D\tReturns a match where the string DOES NOT contain digits\n",
    "\\s\tReturns a match where the string contains a white space character\n",
    "\\S\tReturns a match where the string DOES NOT contain a white space character\n",
    "\\w\tReturns a match where the string contains any word characters (characters from a to Z, digits from 0-9, and the underscore _ character)\n",
    "\\W\tReturns a match where the string DOES NOT contain any word characters\n",
    "\\Z\tReturns a match if the specified characters are at the end of the string\n",
    "'''\n",
    "# Sets\n",
    "# A set is a set of characters inside a pair of square brackets [] with a special meaning:\n",
    "'''\n",
    "[arn]\tReturns a match where one of the specified characters (a, r, or n) are present\t\n",
    "[a-n]\tReturns a match for any lower case character, alphabetically between a and n\t\n",
    "[^arn]\tReturns a match for any character EXCEPT a, r, and n\t\n",
    "[0123]\tReturns a match where any of the specified digits (0, 1, 2, or 3) are present\t\n",
    "[0-9]\tReturns a match for any digit between 0 and 9\t\n",
    "[0-5][0-9]\tReturns a match for any two-digit numbers from 00 and 59\t\n",
    "[a-zA-Z]\tReturns a match for any character alphabetically between a and z, lower case OR upper case\t\n",
    "[+]\tIn sets, +, *, ., |, (), $,{} has no special meaning, so [+] means: return a match for any + character in the string\n",
    "'''\n",
    "# Functions\n",
    "'''\n",
    "findall\tReturns a list containing all matches\n",
    "search\tReturns a Match object if there is a match anywhere in the string\n",
    "split\tReturns a list where the string has been split at each match\n",
    "sub\tReplaces one or many matches with a string\n",
    "'''"
   ]
  },
  {
   "cell_type": "code",
   "execution_count": 1,
   "metadata": {},
   "outputs": [
    {
     "ename": "ValueError",
     "evalue": "invalid literal for int() with base 10: ''",
     "output_type": "error",
     "traceback": [
      "\u001b[1;31m---------------------------------------------------------------------------\u001b[0m",
      "\u001b[1;31mValueError\u001b[0m                                Traceback (most recent call last)",
      "\u001b[1;32m~\\AppData\\Local\\Temp/ipykernel_3340/2301075990.py\u001b[0m in \u001b[0;36m<module>\u001b[1;34m\u001b[0m\n\u001b[0;32m      8\u001b[0m \u001b[0mkey\u001b[0m \u001b[1;33m=\u001b[0m \u001b[0minput\u001b[0m\u001b[1;33m(\u001b[0m\u001b[1;34m'Enter a key (1-26): '\u001b[0m\u001b[1;33m)\u001b[0m\u001b[1;33m\u001b[0m\u001b[1;33m\u001b[0m\u001b[0m\n\u001b[0;32m      9\u001b[0m \u001b[1;33m\u001b[0m\u001b[0m\n\u001b[1;32m---> 10\u001b[1;33m \u001b[0mkey\u001b[0m \u001b[1;33m=\u001b[0m \u001b[0mint\u001b[0m\u001b[1;33m(\u001b[0m\u001b[0mkey\u001b[0m\u001b[1;33m)\u001b[0m\u001b[1;33m\u001b[0m\u001b[1;33m\u001b[0m\u001b[0m\n\u001b[0m\u001b[0;32m     11\u001b[0m \u001b[1;33m\u001b[0m\u001b[0m\n\u001b[0;32m     12\u001b[0m \u001b[1;32mfor\u001b[0m \u001b[0mcharacter\u001b[0m \u001b[1;32min\u001b[0m \u001b[0mmessage\u001b[0m\u001b[1;33m:\u001b[0m\u001b[1;33m\u001b[0m\u001b[1;33m\u001b[0m\u001b[0m\n",
      "\u001b[1;31mValueError\u001b[0m: invalid literal for int() with base 10: ''"
     ]
    }
   ],
   "source": [
    "# 53:13\n",
    "alphabet = 'abcdefghijklmnopqrstuvwxyz'\n",
    "\n",
    "newMessage = ' '\n",
    "\n",
    "message = input('Please enter a message: ')\n",
    "\n",
    "key = input('Enter a key (1-26): ')\n",
    "\n",
    "key = int(key)\n",
    "\n",
    "for character in message:\n",
    "\n",
    "   if character in alphabet:\n",
    "\n",
    "        position = alphabet.find(character)\n",
    "\n",
    "        newPosition = (position + key) % 26\n",
    "\n",
    "        newCharacter = alphabet[newPosition]\n",
    "\n",
    "        newMessage += newCharacter\n",
    "\n",
    "   else:\n",
    "\n",
    "        newMessage += newCharacter\n",
    "\n",
    "print('Your new message is:', newMessage)"
   ]
  },
  {
   "cell_type": "code",
   "execution_count": 3,
   "metadata": {},
   "outputs": [
    {
     "name": "stdout",
     "output_type": "stream",
     "text": [
      "orlean, m, 50\n"
     ]
    }
   ],
   "source": [
    "import re\n",
    "string = 'orlean;m;50'\n",
    "p = re.compile(r';')\n",
    "replaced = p.sub(', ', string)\n",
    "print(replaced)"
   ]
  },
  {
   "cell_type": "code",
   "execution_count": 24,
   "metadata": {},
   "outputs": [
    {
     "name": "stdout",
     "output_type": "stream",
     "text": [
      "orlean\n",
      "m\n",
      "50\n"
     ]
    }
   ],
   "source": [
    "import re\n",
    "string = 'orlean;m;50'\n",
    "p = re.compile(r';')\n",
    "splited = p.split(string)\n",
    "for s in splited:\n",
    "    print(s)"
   ]
  },
  {
   "cell_type": "code",
   "execution_count": 22,
   "metadata": {},
   "outputs": [
    {
     "name": "stdout",
     "output_type": "stream",
     "text": [
      "<re.Match object; span=(134, 160), match='http://python-engenier.com'>\n",
      "<re.Match object; span=(162, 193), match='https://www.python-engenier.com'>\n",
      "<re.Match object; span=(228, 249), match='http://www.python.net'>\n",
      "<re.Match object; span=(251, 317), match='https://www.w3schools.com/python/trypython.asp?fi>\n",
      "<re.Match object; span=(320, 369), match='https://www.w3schools.com/python/python_regex.asp>\n",
      "<re.Match object; span=(370, 413), match='https://www.youtube.com/watch?v=MwzIRleH47o'>\n"
     ]
    }
   ],
   "source": [
    "import re\n",
    "urls = '''\n",
    "pythonengenier@gmail.com\n",
    "Hello world\n",
    "2020-05-20\n",
    "123456\n",
    "Python-engenier@gmx.re\n",
    "Ms Smith\n",
    "orlean.costa@hotmail.com\n",
    "orllean@yahoo.com.br\n",
    "http://python-engenier.com \n",
    "https://www.python-engenier.com \n",
    "python-engenier123@my-domain.org\n",
    "http://www.python.net \n",
    "https://www.w3schools.com/python/trypython.asp?filename=demo_regex  \n",
    "https://www.w3schools.com/python/python_regex.asp\n",
    "https://www.youtube.com/watch?v=MwzIRleH47o\n",
    "'''\n",
    "p = re.compile(r'(https?://)(www\\.)?([a-zA-Z0-9-_]+)\\.([a-zA-Z0-9]+)\\S+')\n",
    "matches = p.finditer(urls)\n",
    "for m in matches:\n",
    "    print(m)"
   ]
  },
  {
   "cell_type": "code",
   "execution_count": 21,
   "metadata": {},
   "outputs": [
    {
     "name": "stdout",
     "output_type": "stream",
     "text": [
      "pythonengenier gmail com\n",
      "engenier gmx re\n",
      "orlean.costa hotmail com\n",
      "orllean yahoo com\n",
      "python_engenier123 my-domain org\n",
      "\n",
      "<re.Match object; span=(1, 25), match='pythonengenier@gmail.com'>\n",
      "<re.Match object; span=(56, 78), match='Python-engenier@gmx.re'>\n",
      "<re.Match object; span=(88, 112), match='orlean.costa@hotmail.com'>\n",
      "<re.Match object; span=(113, 130), match='orllean@yahoo.com'>\n",
      "<re.Match object; span=(136, 168), match='python_engenier123@my-domain.org'>\n"
     ]
    }
   ],
   "source": [
    "import re\n",
    "emails = '''\n",
    "pythonengenier@gmail.com\n",
    "Hello world\n",
    "2020-05-20\n",
    "123456\n",
    "Python-engenier@gmx.re\n",
    "Ms Smith\n",
    "orlean.costa@hotmail.com\n",
    "orllean@yahoo.com.br \n",
    "\n",
    "python_engenier123@my-domain.org\n",
    "'''\n",
    "p = re.compile(r'([a-zA-Z0-9\\.-_]+)@([a-zA-Z-_]+)\\.([a-zA-Z]+)')\n",
    "matches = p.finditer(emails)\n",
    "for m in matches:\n",
    "    print(m.group(1), m.group(2), m.group(3))\n",
    "print()\n",
    "p = re.compile(r'([\\w\\.-]+)@([a-z-]+)\\.([a-zA-Z]+)')\n",
    "matches = p.finditer(emails)\n",
    "for m in matches:\n",
    "    print(m)"
   ]
  },
  {
   "cell_type": "code",
   "execution_count": 3,
   "metadata": {},
   "outputs": [
    {
     "name": "stdout",
     "output_type": "stream",
     "text": [
      "<re.Match object; span=(1, 11), match='Mr Simpson'>\n",
      "\n",
      "<re.Match object; span=(1, 11), match='Mr Simpson'>\n",
      "<re.Match object; span=(24, 33), match='Mr. Brown'>\n",
      "<re.Match object; span=(73, 78), match='Mr. T'>\n",
      "\n",
      "<re.Match object; span=(1, 11), match='Mr Simpson'>\n",
      "<re.Match object; span=(12, 23), match='Mrs Simpson'>\n",
      "<re.Match object; span=(24, 33), match='Mr. Brown'>\n",
      "<re.Match object; span=(64, 72), match='Ms Smith'>\n",
      "<re.Match object; span=(73, 78), match='Mr. T'>\n",
      "\n"
     ]
    }
   ],
   "source": [
    "import re\n",
    "name_string = '''\n",
    "Mr Simpson\n",
    "Mrs Simpson\n",
    "Mr. Brown\n",
    "Hello world\n",
    "2020-05-20\n",
    "123456\n",
    "Ms Smith\n",
    "Mr. T\n",
    "'''\n",
    "pattern = re.compile(r'Mr\\s\\w+')\n",
    "matches = pattern.finditer(name_string)\n",
    "for match in matches:\n",
    "    print(match)\n",
    "print()\n",
    "pattern = re.compile(r'Mr\\.?\\s\\w+')\n",
    "matches = pattern.finditer(name_string)\n",
    "for match in matches:\n",
    "    print(match)\n",
    "print()\n",
    "pattern = re.compile(r'(Mr|Ms|Mrs)\\.?\\s\\w+')\n",
    "matches = pattern.finditer(name_string)\n",
    "for match in matches:\n",
    "    print(match)\n",
    "print()"
   ]
  },
  {
   "cell_type": "code",
   "execution_count": 80,
   "metadata": {},
   "outputs": [
    {
     "name": "stdout",
     "output_type": "stream",
     "text": [
      "<re.Match object; span=(13, 23), match='2020.04.01'>\n",
      "<re.Match object; span=(25, 35), match='2020-04-01'>\n",
      "<re.Match object; span=(36, 46), match='2020-05-23'>\n",
      "<re.Match object; span=(47, 57), match='2020-06-11'>\n",
      "<re.Match object; span=(58, 68), match='2020-07-15'>\n",
      "<re.Match object; span=(69, 79), match='2020-08-17'>\n",
      "<re.Match object; span=(81, 91), match='2020/04/02'>\n",
      "<re.Match object; span=(93, 103), match='2020_04_04'>\n",
      "<re.Match object; span=(104, 114), match='2020_04_06'>\n",
      "\n",
      "<re.Match object; span=(25, 35), match='2020-04-01'>\n",
      "<re.Match object; span=(36, 46), match='2020-05-23'>\n",
      "<re.Match object; span=(47, 57), match='2020-06-11'>\n",
      "<re.Match object; span=(58, 68), match='2020-07-15'>\n",
      "<re.Match object; span=(69, 79), match='2020-08-17'>\n",
      "\n",
      "<re.Match object; span=(25, 35), match='2020-04-01'>\n",
      "<re.Match object; span=(36, 46), match='2020-05-23'>\n",
      "<re.Match object; span=(47, 57), match='2020-06-11'>\n",
      "<re.Match object; span=(58, 68), match='2020-07-15'>\n",
      "<re.Match object; span=(69, 79), match='2020-08-17'>\n",
      "<re.Match object; span=(81, 91), match='2020/04/02'>\n",
      "\n",
      "<re.Match object; span=(25, 35), match='2020-04-01'>\n",
      "<re.Match object; span=(36, 46), match='2020-05-23'>\n",
      "\n",
      "<re.Match object; span=(47, 57), match='2020-06-11'>\n",
      "<re.Match object; span=(58, 68), match='2020-07-15'>\n",
      "<re.Match object; span=(69, 79), match='2020-08-17'>\n",
      "\n",
      "<re.Match object; span=(1, 11), match='01.04.2020'>\n",
      "<re.Match object; span=(13, 23), match='2020.04.01'>\n"
     ]
    }
   ],
   "source": [
    "import re\n",
    "dates = '''\n",
    "01.04.2020\n",
    "\n",
    "2020.04.01\n",
    "\n",
    "2020-04-01\n",
    "2020-05-23\n",
    "2020-06-11\n",
    "2020-07-15\n",
    "2020-08-17\n",
    "\n",
    "2020/04/02\n",
    "\n",
    "2020_04_04\n",
    "2020_04_06\n",
    "\n",
    "22-12-2021\n",
    "'''\n",
    "pattern = re.compile(r'\\d\\d\\d\\d.\\d\\d.\\d\\d')\n",
    "matches = pattern.finditer(dates)\n",
    "for match in matches:\n",
    "    print(match)\n",
    "print()\n",
    "pattern = re.compile(r'\\d\\d\\d\\d-\\d\\d-\\d\\d')\n",
    "matches = pattern.finditer(dates)\n",
    "for match in matches:\n",
    "    print(match)\n",
    "print()\n",
    "pattern = re.compile(r'\\d\\d\\d\\d[-/]\\d\\d[-/]\\d\\d')\n",
    "matches = pattern.finditer(dates)\n",
    "for match in matches:\n",
    "    print(match)\n",
    "print()\n",
    "pattern = re.compile(r'\\d\\d\\d\\d-0[45]-\\d\\d')\n",
    "matches = pattern.finditer(dates)\n",
    "for match in matches:\n",
    "    print(match)\n",
    "print()\n",
    "pattern = re.compile(r'\\d{4}-0[6-8]-\\d{2}')\n",
    "matches = pattern.finditer(dates)\n",
    "for match in matches:\n",
    "    print(match)\n",
    "print()\n",
    "pattern = re.compile(r'\\d+\\.\\d+\\.\\d+')\n",
    "matches = pattern.finditer(dates)\n",
    "for match in matches:\n",
    "    print(match)\n"
   ]
  },
  {
   "cell_type": "code",
   "execution_count": 67,
   "metadata": {},
   "outputs": [
    {
     "name": "stdout",
     "output_type": "stream",
     "text": [
      "<re.Match object; span=(6, 9), match='123'>\n",
      "\n",
      "<re.Match object; span=(6, 8), match='12'>\n"
     ]
    }
   ],
   "source": [
    "import re\n",
    "test_string = 'hello 123_ '\n",
    "pattern = re.compile(r'\\d{1,4}')\n",
    "matches = pattern.finditer(test_string)\n",
    "for match in matches:\n",
    "    print(match)\n",
    "print()\n",
    "pattern = re.compile(r'\\d{2}')\n",
    "matches = pattern.finditer(test_string)\n",
    "for match in matches:\n",
    "    print(match)"
   ]
  },
  {
   "cell_type": "code",
   "execution_count": 63,
   "metadata": {},
   "outputs": [
    {
     "name": "stdout",
     "output_type": "stream",
     "text": [
      "<re.Match object; span=(6, 8), match='_1'>\n",
      "<re.Match object; span=(8, 10), match='_2'>\n",
      "<re.Match object; span=(10, 12), match='_3'>\n",
      "\n",
      "<re.Match object; span=(7, 9), match='1_'>\n",
      "<re.Match object; span=(9, 11), match='2_'>\n",
      "<re.Match object; span=(11, 13), match='3_'>\n"
     ]
    }
   ],
   "source": [
    "import re\n",
    "test_string = 'hello _1_2_3_ '\n",
    "pattern = re.compile(r'_?\\d+')\n",
    "matches = pattern.finditer(test_string)\n",
    "for match in matches:\n",
    "    print(match)\n",
    "print()\n",
    "pattern = re.compile(r'\\d+_')\n",
    "matches = pattern.finditer(test_string)\n",
    "for match in matches:\n",
    "    print(match)"
   ]
  },
  {
   "cell_type": "code",
   "execution_count": 58,
   "metadata": {},
   "outputs": [
    {
     "name": "stdout",
     "output_type": "stream",
     "text": [
      "<re.Match object; span=(0, 0), match=''>\n",
      "<re.Match object; span=(1, 1), match=''>\n",
      "<re.Match object; span=(2, 2), match=''>\n",
      "<re.Match object; span=(3, 3), match=''>\n",
      "<re.Match object; span=(4, 4), match=''>\n",
      "<re.Match object; span=(5, 5), match=''>\n",
      "<re.Match object; span=(6, 9), match='123'>\n",
      "<re.Match object; span=(9, 9), match=''>\n",
      "<re.Match object; span=(10, 10), match=''>\n",
      "<re.Match object; span=(11, 11), match=''>\n",
      "\n",
      "<re.Match object; span=(6, 9), match='123'>\n"
     ]
    }
   ],
   "source": [
    "import re\n",
    "test_string = 'hello 123_ '\n",
    "pattern = re.compile(r'\\d*')\n",
    "matches = pattern.finditer(test_string)\n",
    "for match in matches:\n",
    "    print(match)\n",
    "print()\n",
    "pattern = re.compile(r'\\d+')\n",
    "matches = pattern.finditer(test_string)\n",
    "for match in matches:\n",
    "    print(match)"
   ]
  },
  {
   "cell_type": "code",
   "execution_count": 54,
   "metadata": {},
   "outputs": [
    {
     "name": "stdout",
     "output_type": "stream",
     "text": [
      "<re.Match object; span=(2, 3), match='l'>\n",
      "<re.Match object; span=(3, 4), match='l'>\n",
      "<re.Match object; span=(4, 5), match='o'>\n",
      "\n",
      "<re.Match object; span=(0, 1), match='h'>\n",
      "<re.Match object; span=(1, 2), match='e'>\n",
      "<re.Match object; span=(2, 3), match='l'>\n",
      "<re.Match object; span=(3, 4), match='l'>\n",
      "<re.Match object; span=(4, 5), match='o'>\n",
      "\n",
      "<re.Match object; span=(5, 6), match='H'>\n",
      "<re.Match object; span=(6, 7), match='E'>\n",
      "<re.Match object; span=(7, 8), match='L'>\n",
      "<re.Match object; span=(8, 9), match='L'>\n",
      "<re.Match object; span=(9, 10), match='O'>\n",
      "\n",
      "<re.Match object; span=(11, 12), match='1'>\n",
      "<re.Match object; span=(12, 13), match='2'>\n",
      "<re.Match object; span=(13, 14), match='3'>\n",
      "<re.Match object; span=(14, 15), match='_'>\n",
      "\n",
      "<re.Match object; span=(0, 1), match='h'>\n",
      "<re.Match object; span=(1, 2), match='e'>\n",
      "<re.Match object; span=(2, 3), match='l'>\n",
      "<re.Match object; span=(3, 4), match='l'>\n",
      "<re.Match object; span=(4, 5), match='o'>\n",
      "<re.Match object; span=(5, 6), match='H'>\n",
      "<re.Match object; span=(6, 7), match='E'>\n",
      "<re.Match object; span=(7, 8), match='L'>\n",
      "<re.Match object; span=(8, 9), match='L'>\n",
      "<re.Match object; span=(9, 10), match='O'>\n",
      "<re.Match object; span=(11, 12), match='1'>\n",
      "<re.Match object; span=(12, 13), match='2'>\n",
      "<re.Match object; span=(13, 14), match='3'>\n"
     ]
    }
   ],
   "source": [
    "import re\n",
    "test_string = 'helloHELLO 123_'\n",
    "pattern = re.compile(r'[lo]')\n",
    "matches = pattern.finditer(test_string)\n",
    "for match in matches:\n",
    "    print(match)\n",
    "print()\n",
    "pattern = re.compile(r'[a-z]')\n",
    "matches = pattern.finditer(test_string)\n",
    "for match in matches:\n",
    "    print(match)\n",
    "print()\n",
    "pattern = re.compile(r'[A-Z]')\n",
    "matches = pattern.finditer(test_string)\n",
    "for match in matches:\n",
    "    print(match)\n",
    "print()\n",
    "pattern = re.compile(r'[0-9_]')\n",
    "matches = pattern.finditer(test_string)\n",
    "for match in matches:\n",
    "    print(match)\n",
    "print()\n",
    "pattern = re.compile(r'[a-zA-Z0-9]')\n",
    "matches = pattern.finditer(test_string)\n",
    "for match in matches:\n",
    "    print(match)"
   ]
  },
  {
   "cell_type": "code",
   "execution_count": 48,
   "metadata": {},
   "outputs": [
    {
     "name": "stdout",
     "output_type": "stream",
     "text": [
      "<re.Match object; span=(11, 14), match='hey'>\n",
      "\n",
      "<re.Match object; span=(19, 22), match='hey'>\n"
     ]
    }
   ],
   "source": [
    "import re\n",
    "test_string = 'hello 123_ heyho hohey'\n",
    "pattern = re.compile(r'\\bhey')\n",
    "matches = pattern.finditer(test_string)\n",
    "for match in matches:\n",
    "    print(match)\n",
    "print()\n",
    "pattern = re.compile(r'\\Bhey')\n",
    "matches = pattern.finditer(test_string)\n",
    "for match in matches:\n",
    "    print(match)"
   ]
  },
  {
   "cell_type": "code",
   "execution_count": 46,
   "metadata": {},
   "outputs": [
    {
     "name": "stdout",
     "output_type": "stream",
     "text": [
      "<re.Match object; span=(0, 1), match='h'>\n",
      "<re.Match object; span=(1, 2), match='e'>\n",
      "<re.Match object; span=(2, 3), match='l'>\n",
      "<re.Match object; span=(3, 4), match='l'>\n",
      "<re.Match object; span=(4, 5), match='o'>\n",
      "<re.Match object; span=(6, 7), match='1'>\n",
      "<re.Match object; span=(7, 8), match='2'>\n",
      "<re.Match object; span=(8, 9), match='3'>\n",
      "<re.Match object; span=(9, 10), match='_'>\n",
      "<re.Match object; span=(11, 12), match='h'>\n",
      "<re.Match object; span=(12, 13), match='e'>\n",
      "<re.Match object; span=(13, 14), match='y'>\n",
      "<re.Match object; span=(14, 15), match='h'>\n",
      "<re.Match object; span=(15, 16), match='o'>\n",
      "<re.Match object; span=(17, 18), match='h'>\n",
      "<re.Match object; span=(18, 19), match='o'>\n",
      "<re.Match object; span=(19, 20), match='h'>\n",
      "<re.Match object; span=(20, 21), match='e'>\n",
      "<re.Match object; span=(21, 22), match='y'>\n",
      "\n",
      "<re.Match object; span=(5, 6), match=' '>\n",
      "<re.Match object; span=(10, 11), match=' '>\n",
      "<re.Match object; span=(16, 17), match=' '>\n"
     ]
    }
   ],
   "source": [
    "import re\n",
    "test_string = 'hello 123_ heyho hohey'\n",
    "pattern = re.compile(r'\\w')\n",
    "matches = pattern.finditer(test_string)\n",
    "for match in matches:\n",
    "    print(match)\n",
    "print()\n",
    "pattern = re.compile(r'\\W')\n",
    "matches = pattern.finditer(test_string)\n",
    "for match in matches:\n",
    "    print(match)"
   ]
  },
  {
   "cell_type": "code",
   "execution_count": 45,
   "metadata": {},
   "outputs": [
    {
     "name": "stdout",
     "output_type": "stream",
     "text": [
      "<re.Match object; span=(5, 6), match=' '>\n",
      "<re.Match object; span=(10, 11), match=' '>\n",
      "<re.Match object; span=(16, 17), match=' '>\n",
      "\n",
      "<re.Match object; span=(0, 1), match='h'>\n",
      "<re.Match object; span=(1, 2), match='e'>\n",
      "<re.Match object; span=(2, 3), match='l'>\n",
      "<re.Match object; span=(3, 4), match='l'>\n",
      "<re.Match object; span=(4, 5), match='o'>\n",
      "<re.Match object; span=(6, 7), match='1'>\n",
      "<re.Match object; span=(7, 8), match='2'>\n",
      "<re.Match object; span=(8, 9), match='3'>\n",
      "<re.Match object; span=(9, 10), match='_'>\n",
      "<re.Match object; span=(11, 12), match='h'>\n",
      "<re.Match object; span=(12, 13), match='e'>\n",
      "<re.Match object; span=(13, 14), match='y'>\n",
      "<re.Match object; span=(14, 15), match='h'>\n",
      "<re.Match object; span=(15, 16), match='o'>\n",
      "<re.Match object; span=(17, 18), match='h'>\n",
      "<re.Match object; span=(18, 19), match='o'>\n",
      "<re.Match object; span=(19, 20), match='h'>\n",
      "<re.Match object; span=(20, 21), match='e'>\n",
      "<re.Match object; span=(21, 22), match='y'>\n"
     ]
    }
   ],
   "source": [
    "import re\n",
    "test_string = 'hello 123_ heyho hohey'\n",
    "pattern = re.compile(r'\\s')\n",
    "matches = pattern.finditer(test_string)\n",
    "for match in matches:\n",
    "    print(match)\n",
    "print()\n",
    "pattern = re.compile(r'\\S')\n",
    "matches = pattern.finditer(test_string)\n",
    "for match in matches:\n",
    "    print(match)"
   ]
  },
  {
   "cell_type": "code",
   "execution_count": 43,
   "metadata": {},
   "outputs": [
    {
     "name": "stdout",
     "output_type": "stream",
     "text": [
      "1, 2, 3, \n",
      "h, e, l, l, o,  , _,  , h, e, y, h, o,  , h, o, h, e, y, "
     ]
    }
   ],
   "source": [
    "import re\n",
    "test_string = 'hello 123_ heyho hohey'\n",
    "pattern = re.compile(r'\\d')\n",
    "matches = pattern.finditer(test_string)\n",
    "for match in matches:\n",
    "    print(match.group(), end=', ')\n",
    "print()\n",
    "pattern = re.compile(r'\\D')\n",
    "matches = pattern.finditer(test_string)\n",
    "for match in matches:\n",
    "    print(match.group(), end=', ')"
   ]
  },
  {
   "cell_type": "code",
   "execution_count": 39,
   "metadata": {},
   "outputs": [
    {
     "name": "stdout",
     "output_type": "stream",
     "text": [
      "<re.Match object; span=(18, 21), match='ABC'>\n"
     ]
    }
   ],
   "source": [
    "import re\n",
    "test_string = '123abc456789abc123ABC'\n",
    "pattern = re.compile(r'123$')\n",
    "matches = pattern.finditer(test_string)\n",
    "for mach in matches:\n",
    "    print(mach)\n",
    "pattern = re.compile(r'ABC$')\n",
    "matches = pattern.finditer(test_string)\n",
    "for mach in matches:\n",
    "    print(mach)"
   ]
  },
  {
   "cell_type": "code",
   "execution_count": 37,
   "metadata": {},
   "outputs": [
    {
     "name": "stdout",
     "output_type": "stream",
     "text": [
      "<re.Match object; span=(0, 3), match='123'>\n"
     ]
    }
   ],
   "source": [
    "import re\n",
    "test_string = '123abc456789abc123ABC'\n",
    "pattern = re.compile(r'^123')\n",
    "matches = pattern.finditer(test_string)\n",
    "for match in matches:\n",
    "    print(match)\n",
    "pattern = re.compile(r'^abc')\n",
    "matches = pattern.finditer(test_string)\n",
    "for match in matches:\n",
    "    print(match)"
   ]
  },
  {
   "cell_type": "code",
   "execution_count": 27,
   "metadata": {},
   "outputs": [
    {
     "name": "stdout",
     "output_type": "stream",
     "text": [
      "1, 2, 3, a, b, c, 4, 5, 6, 7, 8, 9, a, b, c, 1, 2, 3, A, B, C, "
     ]
    }
   ],
   "source": [
    "import re\n",
    "test_string = '123abc456789abc123ABC'\n",
    "pattern = re.compile(r'.')\n",
    "matches = pattern.finditer(test_string)\n",
    "for mach in matches:\n",
    "    print(mach.group(), end=', ')"
   ]
  },
  {
   "cell_type": "code",
   "execution_count": 20,
   "metadata": {},
   "outputs": [
    {
     "name": "stdout",
     "output_type": "stream",
     "text": [
      "<re.Match object; span=(3, 6), match='abc'>\n"
     ]
    }
   ],
   "source": [
    "# search() Scan through a string, looking for any location where this RE matches.\n",
    "import re\n",
    "test_string = '123abc456789abc123ABC'\n",
    "pattern = re.compile(r'abc')\n",
    "match = pattern.search(test_string)\n",
    "print(match)"
   ]
  },
  {
   "cell_type": "code",
   "execution_count": 18,
   "metadata": {},
   "outputs": [
    {
     "name": "stdout",
     "output_type": "stream",
     "text": [
      "None\n",
      "<re.Match object; span=(0, 3), match='123'>\n"
     ]
    }
   ],
   "source": [
    "# match() Determine if the RE matches at the beginning of the string.\n",
    "import re\n",
    "test_string = '123abc456789abc123ABC'\n",
    "pattern1 = re.compile(r'abc')\n",
    "pattern2 = re.compile(r'123')\n",
    "match1 = pattern1.match(test_string)\n",
    "match2 = pattern2.match(test_string)\n",
    "print(match1)\n",
    "print(match2)"
   ]
  },
  {
   "cell_type": "code",
   "execution_count": 25,
   "metadata": {},
   "outputs": [
    {
     "name": "stdout",
     "output_type": "stream",
     "text": [
      "['abc', 'abc']\n",
      "abc\n",
      "abc\n"
     ]
    }
   ],
   "source": [
    "# findall() Find all substrings where the RE matches, and returns them as a list.\n",
    "import re\n",
    "test_string = '123abc456789abc123ABC'\n",
    "pattern = re.compile(r'abc')\n",
    "matches = pattern.findall(test_string)\n",
    "print(matches)\n",
    "for mach in matches:\n",
    "    print(mach)"
   ]
  },
  {
   "cell_type": "code",
   "execution_count": 24,
   "metadata": {},
   "outputs": [
    {
     "name": "stdout",
     "output_type": "stream",
     "text": [
      "<callable_iterator object at 0x000001D645D3C220>\n",
      "(3, 6) 3 6\n",
      "(12, 15) 12 15\n",
      "abc\n",
      "abc\n"
     ]
    }
   ],
   "source": [
    "# finditer() Find all substrings where the RE matches, and returns them as an iterator.\n",
    "'''\n",
    "group() Return the string matched by the RE\n",
    "start() Return the starting position of the match\n",
    "end()   Return the ending position of the match\n",
    "span()  Return a tuple containing the (start, end) positions of the match\n",
    "'''\n",
    "import re\n",
    "test_string = '123abc456789abc123ABC'\n",
    "pattern = re.compile(r'abc')\n",
    "matches = pattern.finditer(test_string)\n",
    "print(matches)\n",
    "for match in matches:\n",
    "    print(match.span(), match.start(), match.end())\n",
    "matches = pattern.finditer(test_string)\n",
    "for match in matches:\n",
    "    print(match.group())"
   ]
  }
 ],
 "metadata": {
  "interpreter": {
   "hash": "63fd5069d213b44bf678585dea6b12cceca9941eaf7f819626cde1f2670de90d"
  },
  "kernelspec": {
   "display_name": "Python 3.9.0 64-bit",
   "language": "python",
   "name": "python3"
  },
  "language_info": {
   "codemirror_mode": {
    "name": "ipython",
    "version": 3
   },
   "file_extension": ".py",
   "mimetype": "text/x-python",
   "name": "python",
   "nbconvert_exporter": "python",
   "pygments_lexer": "ipython3",
   "version": "3.9.0"
  },
  "orig_nbformat": 4
 },
 "nbformat": 4,
 "nbformat_minor": 2
}
